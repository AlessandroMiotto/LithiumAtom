{
 "cells": [
  {
   "cell_type": "markdown",
   "metadata": {},
   "source": [
    "# Lithium - Perturbation Theory\n",
    "\n",
    "## Perturbative and variational method for $\\ket{1s}$ electrons\n",
    "We start considering only the first two electron in the $\\ket{1s}$ orbital. The wavefunction can be written as product of the two one-electron hydrogen-like wavefunction:\n",
    "$$\\Psi(r_1,r_2)=\\psi_{1s}(r_1)\\psi_{1s}(r_2)=\\frac{1}{\\sqrt{\\pi}}Z^{3/2}e^{-Z(r_1+r_2)}$$\n",
    "$Z$ should be the nuclear charge but, due to screening of the other electron, the effective charge will be lower. Using variational theory we can minimize the energy $E(Z)=\\bra{\\Psi}H\\ket{\\Psi}$. The Hamiltonian, in atomic unit ($\\hbar=e=4\\pi\\varepsilon_0=a_0=1$), is:\n",
    "$$H=-\\frac{1}{2}\\nabla_1^2-\\frac{1}{2}\\nabla_2^2-\\frac{Z}{r_1}-\\frac{Z}{r_2}+\\frac{1}{|\\boldsymbol{r}_1-\\boldsymbol{r}_2|}$$\n",
    "Now we need to find the expectation value of the hamiltonian using $\\Psi(r_1,r_2)$ as ansatz.\n",
    "$$\\braket{-\\frac{1}{2}\\nabla_1^2}=-\\frac{1}{2}\\int d\\boldsymbol{r}_2^3 \\int d\\boldsymbol{r}_1^3 \\Psi^*(\\boldsymbol{r}_1,\\boldsymbol{r}_2)\\nabla^2_1\\Psi(\\boldsymbol{r}_1,\\boldsymbol{r}_2)=\\frac{1}{2}Z_{eff}^2$$\n",
    "$$\\braket{-\\frac{Z}{r_1}}=-\\int d\\boldsymbol{r}_2^3 \\int d\\boldsymbol{r}_1^3 \\Psi^*(\\boldsymbol{r}_1,\\boldsymbol{r}_2)\\frac{1}{r_1}\\Psi(\\boldsymbol{r}_1,\\boldsymbol{r}_2)=-ZZ_{eff}$$\n",
    "$$\\braket{\\frac{1}{|\\boldsymbol{r_1}-\\boldsymbol{r_2}|}}=\\int d\\boldsymbol{r}_2^3 \\int d\\boldsymbol{r}_1^3 \\Psi^*(\\boldsymbol{r}_1,\\boldsymbol{r}_2)\\frac{1}{|\\boldsymbol{r_1}-\\boldsymbol{r_2}|}\\Psi(\\boldsymbol{r}_1,\\boldsymbol{r}_2)=\\frac{5}{8}Z_{eff}$$\n",
    "From this we can minimize the energy to find the value of the screened nuclear charge:\n",
    "$$\\braket{H}=E(Z_{eff})=Z_{eff}^2-2ZZ_{eff}+\\frac{5}{8}Z_{eff}$$\n",
    "$$Z_{eff}=\\arg\\min_{Z_{eff}}\\{E(Z_{eff})\\}=Z-\\frac{5}{16}$$"
   ]
  },
  {
   "cell_type": "code",
   "execution_count": 4,
   "metadata": {},
   "outputs": [
    {
     "name": "stdout",
     "output_type": "stream",
     "text": [
      "Kinetic energy: Z_{eff}**2/2\n",
      "Potential energy: -Z*Z_{eff}\n",
      "Electron-electron potential energy: 5*Z_{eff}/8\n"
     ]
    }
   ],
   "source": [
    "import sympy as sp\n",
    "\n",
    "# Definition of variables\n",
    "r1, r2, r, Z, Zeff, theta = sp.symbols('r_1 r_2 r Z Z_{eff} \\\\theta', positive=True, real=True)\n",
    "\n",
    "# Definition of the 1s wavefunction\n",
    "psi_1s = sp.Function('\\\\psi_{1s}')(r1, r2)\n",
    "psi_1s = (Zeff**3 / sp.pi) * sp.exp(-Zeff*(r1 + r2))\n",
    "\n",
    "# Calculation of the kinetic energy, potential energy and electron-electron potential energy\n",
    "kin = -sp.Rational(1,2) * sp.integrate(sp.integrate(psi_1s * sp.diff(r1**2 * sp.diff(psi_1s, r1), r1) * 4*sp.pi, (r1, 0, sp.oo)) * 4*sp.pi*r2**2, (r2, 0, sp.oo))\n",
    "pot = - Z * sp.integrate(sp.integrate(psi_1s**2 * r1 * 4*sp.pi, (r1, 0, sp.oo)) * 4*sp.pi*r2**2, (r2, 0, sp.oo))\n",
    "Vee = sp.Rational(5,8) * Zeff   # Sakurai, Modern Quantum Mechanics\n",
    "\n",
    "print('Kinetic energy:', kin)\n",
    "print('Potential energy:', pot)\n",
    "print('Electron-electron potential energy:', Vee)"
   ]
  },
  {
   "cell_type": "code",
   "execution_count": 10,
   "metadata": {},
   "outputs": [
    {
     "name": "stdout",
     "output_type": "stream",
     "text": [
      "Effective charge: 2.69\n",
      "Li+ ion ground state energy: -7.223 Ha\n"
     ]
    }
   ],
   "source": [
    "# Energy of the Li+ ion\n",
    "E = 2*kin + 2*pot + Vee\n",
    "effective_charge = sp.solve(sp.diff(E, Zeff).simplify(), Zeff)[0].subs(Z, 3)\n",
    "E1s = E.subs(Z, 3).subs(Zeff, effective_charge).evalf()\n",
    "print(f\"Effective charge: {effective_charge.evalf():.3}\")\n",
    "print(f\"Li+ ion ground state energy: {E.subs(Z, 3).subs(Zeff, effective_charge).evalf():.4} Ha\")"
   ]
  },
  {
   "cell_type": "markdown",
   "metadata": {},
   "source": [
    "## Perturbative method for $\\ket{2s}$ and $\\ket{2p}$ states \n",
    "\n",
    "Now we can calculate the electron charge density due to the two electron in $\\ket{1s}$ orbital and, using the Poisson equation's Green function, we find the potential:\n",
    "$$\\rho(\\boldsymbol{r}_1)=2\\int d\\boldsymbol{r}_2^3|\\Psi(\\boldsymbol{r}_1,\\boldsymbol{r}_2)|^2 \\hspace{1cm}\\Phi(\\boldsymbol{r})=\\int\\frac{\\rho(\\boldsymbol{r}')}{|\\boldsymbol{r}-\\boldsymbol{r}'|}d\\boldsymbol{r}'^3$$"
   ]
  },
  {
   "cell_type": "code",
   "execution_count": 11,
   "metadata": {},
   "outputs": [
    {
     "data": {
      "text/latex": [
       "$\\displaystyle \\frac{\\left(- Z r + e^{2 Z r} - 1\\right) e^{- 2 Z r}}{r}$"
      ],
      "text/plain": [
       "(-Z*r + exp(2*Z*r) - 1)*exp(-2*Z*r)/r"
      ]
     },
     "execution_count": 11,
     "metadata": {},
     "output_type": "execute_result"
    }
   ],
   "source": [
    "# Calculation of the electron density\n",
    "rho = -2 * sp.integrate(psi_1s**2 * r1**2 * 4*sp.pi, (r1, 0, sp.oo)).subs(r2, r)\n",
    "\n",
    "# Calculation of the electron-electron potential\n",
    "phi = sp.Function('\\\\Phi')(r)\n",
    "phi = (4*Z**3/r)*(sp.integrate(r1**2*sp.exp(-2*Z*r1), (r1, 0, r)) + sp.integrate(r*r1*sp.exp(-2*Z*r1), (r1, r, sp.oo))).simplify()\n",
    "phi"
   ]
  },
  {
   "cell_type": "markdown",
   "metadata": {},
   "source": [
    "The ansatz for the wavefunction and the hamiltonian for the electron in $\\ket{2s}$ or $\\ket{2p}$ (with $l=0$) is:\n",
    "$$\\Psi_{2s}(\\boldsymbol{r_3})=\\frac{Z^{3/2}}{\\sqrt{32\\pi}}(2-Zr_3)e^{-Zr_3/2} \\hspace{1cm} \\Psi_{2p}(\\boldsymbol{r_3})=\\frac{Z^{3/2}}{\\sqrt{32\\pi}}Zr_3e^{-Zr_3/2}\\cos{\\theta}$$\n",
    "$$H=-\\frac{1}{2}\\nabla^2_3-\\frac{Z}{r_3}+\\Phi$$\n",
    "Assuming the potential generated by the first orbital $\\Phi$ is a small perturbation of the hamiltonian, we can use perturbation theory to find the first order energy correction:\n",
    "$$E_{2s}=E_{2s}^{(0)}+E^{(1)}_{2s}=-\\frac{1}{2}\\frac{Z^2}{2^2}+\\bra{2s}\\Phi\\ket{2s}$$ "
   ]
  },
  {
   "cell_type": "code",
   "execution_count": 12,
   "metadata": {},
   "outputs": [
    {
     "data": {
      "text/latex": [
       "$\\displaystyle \\frac{17 Z}{81}$"
      ],
      "text/plain": [
       "17*Z/81"
      ]
     },
     "execution_count": 12,
     "metadata": {},
     "output_type": "execute_result"
    }
   ],
   "source": [
    "# Calculation of the 2s energy correction\n",
    "psi_2s = sp.Function('\\\\psi_{2s}')(r)\n",
    "psi_2s = ((Z ** sp.Rational(3/2) / sp.sqrt(32 * sp.pi)) * (2 - Z*r) * sp.exp(-Z*r/2))\n",
    "E1_2s = sp.integrate((psi_2s ** 2 * phi * r**2 * 4*sp.pi).simplify(), (r, 0, sp.oo))\n",
    "E1_2s"
   ]
  },
  {
   "cell_type": "code",
   "execution_count": 13,
   "metadata": {},
   "outputs": [
    {
     "data": {
      "text/latex": [
       "$\\displaystyle \\frac{59 Z}{243}$"
      ],
      "text/plain": [
       "59*Z/243"
      ]
     },
     "execution_count": 13,
     "metadata": {},
     "output_type": "execute_result"
    }
   ],
   "source": [
    "# Calculation of the 2p energy correction\n",
    "psi_2p = sp.Function('\\\\psi_{2p}')(r)\n",
    "psi_2p = (Z ** sp.Rational(3/2) / sp.sqrt(32 * sp.pi)) * Z*r * sp.exp(-Z*r/2) * sp.cos(theta)\n",
    "E1_2p = sp.integrate(sp.integrate(psi_2p ** 2 * phi * r**2 * 2*sp.pi * sp.sin(theta), (theta, 0, sp.pi)), (r, 0, sp.oo))\n",
    "E1_2p"
   ]
  },
  {
   "cell_type": "code",
   "execution_count": 14,
   "metadata": {},
   "outputs": [
    {
     "name": "stdout",
     "output_type": "stream",
     "text": [
      "2p -> 2s transition energy: 0.09877 Ha = 2.688 eV\n"
     ]
    },
    {
     "data": {
      "text/latex": [
       "$\\displaystyle \\frac{8 Z}{243}$"
      ],
      "text/plain": [
       "8*Z/243"
      ]
     },
     "execution_count": 14,
     "metadata": {},
     "output_type": "execute_result"
    }
   ],
   "source": [
    "# 2p -> 2s transition energy\n",
    "deltaE = (E1_2p - E1_2s).subs(Zeff, Z)\n",
    "print(f\"2p -> 2s transition energy: {deltaE.subs(Z,3).evalf():.4} Ha = {deltaE.subs(Z,3).evalf()*27.2114:.4} eV\")\n",
    "deltaE"
   ]
  },
  {
   "cell_type": "markdown",
   "metadata": {},
   "source": [
    "## Second and third order perturbation theory\n",
    "\n",
    "we express the hydrogen-like wave functions in a computational basis: $\\ket{1s}=(1, 0,0)^T$, $\\ket{2s}=(0,1,0)^T$ and $\\ket{2p}=(0,0,1)^T$. The last two states are degenerate and the system's Hamiltonian is given by:\n",
    "$$H=-\\frac{Z^2}{2}\\ket{1s}\\bra{1s}-\\frac{Z^2}{8}(\\ket{2s}\\bra{2s}-\\ket{2s}\\bra{2s})+\\Phi$$"
   ]
  },
  {
   "cell_type": "code",
   "execution_count": 37,
   "metadata": {},
   "outputs": [
    {
     "name": "stdout",
     "output_type": "stream",
     "text": [
      "First order correction:\n",
      " 2s  17.13 eV\n",
      " 2p  19.82 eV\n",
      "\n",
      "Second order correction:\n",
      " 2s  0.5794 eV\n",
      "\n",
      "Third order correction:\n",
      " 2s  0.2138 eV\n",
      "\n",
      "2s -> 2p transition energy: 1.894 eV\n"
     ]
    }
   ],
   "source": [
    "r, Z, theta = sp.symbols('r Z \\\\theta', positive=True, real=True)\n",
    "\n",
    "# Definition of the wavefunctions |1s>, |2s> and |2p>\n",
    "psi_1s = (Z ** sp.Rational(3/2) / sp.sqrt(sp.pi)) * sp.exp(-Z*r)\n",
    "psi_2s = (Z ** sp.Rational(3/2) / sp.sqrt(32 * sp.pi)) * (2 - Z*r) * sp.exp(-Z*r/2)\n",
    "psi_2p = (Z ** sp.Rational(3/2) / sp.sqrt(32 * sp.pi)) * Z*r * sp.exp(-Z*r/2) * sp.cos(theta)\n",
    "\n",
    "# Eigenenergies of the |1s>, |2s> and |2p> states\n",
    "E_1s = -Z**2 / 2\n",
    "E_2s = -Z**2 / 8\n",
    "E_2p = -Z**2 / 8\n",
    "\n",
    "# Definition of the Hamiltonian matrix\n",
    "H = sp.Matrix([[E_1s, 0, 0], [0, E_2s, 0], [0, 0, E_2p]])\n",
    "\n",
    "# Definition of the charge density potential\n",
    "phi = -((Z*r+1)*sp.exp(-2*Z*r) - 1) / r\n",
    "\n",
    "# Calculation of potential matrix elements\n",
    "V_1s1s = sp.integrate(psi_1s ** 2 * phi * 2 * sp.pi * r**2 * sp.sin(theta), (r, 0, sp.oo), (theta, 0, sp.pi))\n",
    "V_2s2s = sp.integrate(psi_2s ** 2 * phi * 2 * sp.pi * r**2 * sp.sin(theta), (r, 0, sp.oo), (theta, 0, sp.pi))\n",
    "V_2p2p = sp.integrate(psi_2p ** 2 * phi * 2 * sp.pi * r**2 * sp.sin(theta), (r, 0, sp.oo), (theta, 0, sp.pi))\n",
    "\n",
    "V_1s2s = sp.integrate(psi_1s * psi_2s * phi * 2 * sp.pi * r**2 * sp.sin(theta), (r, 0, sp.oo), (theta, 0, sp.pi))\n",
    "V_1s2p = sp.integrate(psi_1s * psi_2p * phi * 2 * sp.pi * r**2 * sp.sin(theta), (r, 0, sp.oo), (theta, 0, sp.pi))\n",
    "V_2s2p = sp.integrate(psi_2s * psi_2p * phi * 2 * sp.pi * r**2 * sp.sin(theta), (r, 0, sp.oo), (theta, 0, sp.pi))\n",
    "\n",
    "V = sp.Matrix([ [V_1s1s, V_1s2s, V_1s2p],\n",
    "                [V_1s2s, V_2s2s, V_2s2p],\n",
    "                [V_1s2p, V_2s2p, V_2p2p] ])\n",
    "\n",
    "identity = sp.Matrix([[1, 0, 0], [0, 1, 0], [0, 0, 1]])\n",
    "\n",
    "# Definition of the projection matrix on the |2s> and |2p> eigenstates\n",
    "P = sp.Matrix([[0, 0, 0], [0, 1, 0], [0, 0, 1] ])\n",
    "\n",
    "# Definition of the R matrix\n",
    "# (identity * E_2s) - H\n",
    "R = sp.Matrix([[8/(3*Z**2), 0, 0], [0, 0, 0], [0, 0, 0]])\n",
    "\n",
    "\n",
    "# Calculation of the first, second and third order corrections to the energy\n",
    "first = sp.MatMul(P,V,P).doit().subs(Z,3).evalf()\n",
    "second = sp.MatMul(P,V,R,V,P).doit().subs(Z,3).evalf()\n",
    "third = (sp.MatMul(P,V,R,V,R,V,P).doit() - sp.MatMul(P,V,P,V,R,R,V,P).doit()).subs(Z,3).evalf()\n",
    "\n",
    "deltaE = first + second + third\n",
    "transition = deltaE[2,2] - deltaE[1,1]\n",
    "\n",
    "print(f\"First order correction:\\n 2s  {first[1,1]*27.2114:.4} eV\\n 2p  {first[2,2]*27.2114:.4} eV\\n\")\n",
    "print(f\"Second order correction:\\n 2s  {second[1,1]*27.2114:.4} eV\\n\")\n",
    "print(f\"Third order correction:\\n 2s  {third[1,1]*27.2114:.4} eV\\n\")\n",
    "print(f\"2s -> 2p transition energy: {transition*27.2114:.4} eV\")\n"
   ]
  }
 ],
 "metadata": {
  "kernelspec": {
   "display_name": "base",
   "language": "python",
   "name": "python3"
  },
  "language_info": {
   "codemirror_mode": {
    "name": "ipython",
    "version": 3
   },
   "file_extension": ".py",
   "mimetype": "text/x-python",
   "name": "python",
   "nbconvert_exporter": "python",
   "pygments_lexer": "ipython3",
   "version": "3.12.2"
  }
 },
 "nbformat": 4,
 "nbformat_minor": 2
}
